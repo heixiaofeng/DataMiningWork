{
 "cells": [
  {
   "cell_type": "code",
   "execution_count": 2,
   "metadata": {
    "collapsed": true
   },
   "outputs": [],
   "source": [
    "def createDataSet():\n",
    "    dataSet = [     ['sunny',   'busy',     'male',     'no'],\n",
    "            ['rainy',   'not busy', 'female',   'no'],\n",
    "            ['cloudy',  'relax',    'male',     'maybe'],\n",
    "            ['sunny',   'relax',    'male',     'yes'],\n",
    "            ['cloudy',  'not busy', 'male',     'maybe'],\n",
    "            ['sunny',   'not busy', 'female',   'yes']]\n",
    "    return dataSet"
   ]
  },
  {
   "cell_type": "code",
   "execution_count": 3,
   "metadata": {
    "collapsed": false
   },
   "outputs": [
    {
     "name": "stdout",
     "output_type": "stream",
     "text": [
      "1.584962500721156\n"
     ]
    }
   ],
   "source": [
    "from math import log\n",
    "\n",
    "def calShannonEnt(dataSet):\n",
    "    numEntries = len(dataSet) #计算样本集的总样本数量\n",
    "    labelCounts = {} #设置一个空的dict类型的变量\n",
    "    for featVec in dataSet:\n",
    "        currentLabel = featVec[-1] #选取样本集最后一列，设置为labelCounts变量的key值\n",
    "        if currentLabel not in labelCounts.keys():\n",
    "            labelCounts[currentLabel] = 0\n",
    "        labelCounts[currentLabel] += 1\n",
    "    shannonEnt = 0.0 #初始化信息熵\n",
    "    for key in labelCounts:\n",
    "        prob = float(labelCounts[key])/numEntries\n",
    "        shannonEnt -= prob*log(prob,2) #计算信息熵\n",
    "    return shannonEnt\n",
    "\n",
    "dataSet = createDataSet()\n",
    "shannonEnt = calShannonEnt(dataSet)\n",
    "print(shannonEnt)"
   ]
  },
  {
   "cell_type": "code",
   "execution_count": 4,
   "metadata": {
    "collapsed": false
   },
   "outputs": [
    {
     "name": "stdout",
     "output_type": "stream",
     "text": [
      "[['busy', 'male', 'no'], ['relax', 'male', 'yes'], ['not busy', 'female', 'yes']]\n"
     ]
    }
   ],
   "source": [
    "#对样本集进行划分\n",
    "def splitDataSet(dataSet,axis,value):\n",
    "    #dataSet为样本集\n",
    "    #axis为子属性下标，如0代表子属性“色泽”\n",
    "    #value为上述子属性取值\n",
    "    retDataSet = []\n",
    "    for featVec in dataSet:\n",
    "        if featVec[axis] == value:\n",
    "            reducedFeatVec = featVec[:axis]\n",
    "            reducedFeatVec.extend(featVec[axis+1:])\n",
    "            retDataSet.append(reducedFeatVec)\n",
    "    return retDataSet\n",
    "\n",
    "print(splitDataSet(dataSet,0,'sunny'))"
   ]
  },
  {
   "cell_type": "code",
   "execution_count": 6,
   "metadata": {
    "collapsed": false
   },
   "outputs": [
    {
     "name": "stdout",
     "output_type": "stream",
     "text": [
      "0\n"
     ]
    }
   ],
   "source": [
    "# 基于信息增益率选择最优划分属性\n",
    "def chooseBestFeatureToSplit_GainRatio(dataSet):\n",
    "    numFeatures = len(dataSet[0])-1\n",
    "    baseEntropy = calShannonEnt(dataSet)\n",
    "    bestGainRatio = 0.0\n",
    "    bestFeature = -1\n",
    "    for i in range(numFeatures):\n",
    "        featList = [example[i] for example in dataSet]\n",
    "        uniqueVals=set(featList)\n",
    "        newEntropy = 0.0\n",
    "        iv = 0.0#初始化“固有值”\n",
    "        GainRatio = 0.0\n",
    "        for value in uniqueVals:\n",
    "            subDataSet = splitDataSet(dataSet,i,value)\n",
    "            prob = len(subDataSet)/float(len(dataSet))\n",
    "            iv -= prob * log(prob,2) #计算每个子属性“固有值”\n",
    "            newEntropy += prob*calShannonEnt(subDataSet)\n",
    "        infoGain = baseEntropy - newEntropy\n",
    "        GainRatio = infoGain/iv #计算信息增益率\n",
    "        if GainRatio > bestGainRatio:\n",
    "            bestGainRatio = GainRatio\n",
    "            bestFeature = i\n",
    "    return bestFeature\n",
    "\n",
    "print(chooseBestFeatureToSplit_GainRatio(dataSet))"
   ]
  },
  {
   "cell_type": "code",
   "execution_count": 7,
   "metadata": {
    "collapsed": true
   },
   "outputs": [],
   "source": [
    "# 计算基尼指数\n",
    "def calGini(dataSet):\n",
    "    numEntries = len(dataSet)\n",
    "    labelCounts = {}\n",
    "    for featVec in dataSet:\n",
    "        currentLabel = featVec[-1]\n",
    "        if currentLabel not in labelCounts.keys():\n",
    "            labelCounts[currentLabel]=0\n",
    "        labelCounts[currentLabel] += 1\n",
    "        Gini = 1.0\n",
    "        for key in labelCounts:\n",
    "            prob = float(labelCounts[key])/numEntries\n",
    "            Gini -= prob*prob\n",
    "    return Gini"
   ]
  },
  {
   "cell_type": "code",
   "execution_count": 9,
   "metadata": {
    "collapsed": false
   },
   "outputs": [
    {
     "name": "stdout",
     "output_type": "stream",
     "text": [
      "0\n"
     ]
    }
   ],
   "source": [
    "# 基于基尼指数选择最优划分属性(只能对离散型特征进行处理)\n",
    "def chooseBestFeatureToSplit_Gini(dataSet):\n",
    "    numFeatures = len(dataSet[0]) - 1\n",
    "    bestGini = 100000.0\n",
    "    bestFeature = -1\n",
    "    for i in range(numFeatures):\n",
    "        featList = [example[i] for example in dataSet]\n",
    "        uniqueVals = set(featList)\n",
    "        newGiniIndex = 0.0\n",
    "        for value in uniqueVals:\n",
    "            subDataSet = splitDataSet(dataSet, i, value)\n",
    "            prob = len(subDataSet) / float(len(dataSet))\n",
    "            newGiniIndex += prob * calGini(subDataSet)\n",
    "        if (newGiniIndex < bestGini):\n",
    "            bestGini = newGiniIndex\n",
    "            bestFeature = i\n",
    "    return bestFeature\n",
    "\n",
    "print(chooseBestFeatureToSplit_Gini(dataSet))"
   ]
  }
 ],
 "metadata": {
  "anaconda-cloud": {},
  "kernelspec": {
   "display_name": "Python [conda root]",
   "language": "python",
   "name": "conda-root-py"
  },
  "language_info": {
   "codemirror_mode": {
    "name": "ipython",
    "version": 3
   },
   "file_extension": ".py",
   "mimetype": "text/x-python",
   "name": "python",
   "nbconvert_exporter": "python",
   "pygments_lexer": "ipython3",
   "version": "3.5.2"
  }
 },
 "nbformat": 4,
 "nbformat_minor": 1
}
