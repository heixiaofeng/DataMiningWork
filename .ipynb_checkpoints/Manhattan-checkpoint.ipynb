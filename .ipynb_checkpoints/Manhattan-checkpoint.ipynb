{
 "cells": [
  {
   "cell_type": "code",
   "execution_count": 2,
   "metadata": {
    "collapsed": false
   },
   "outputs": [
    {
     "name": "stdout",
     "output_type": "stream",
     "text": [
      "Here is data matrix : \n",
      "##########################################################\n",
      "[[\"b'M'\" \"b'0.455'\" \"b'0.365'\" ..., \"b'0.101'\" \"b'0.15'\" \"b'15'\"]\n",
      " [\"b'M'\" \"b'0.35'\" \"b'0.265'\" ..., \"b'0.0485'\" \"b'0.07'\" \"b'7'\"]\n",
      " [\"b'F'\" \"b'0.53'\" \"b'0.42'\" ..., \"b'0.1415'\" \"b'0.21'\" \"b'9'\"]\n",
      " ..., \n",
      " [\"b'M'\" \"b'0.6'\" \"b'0.475'\" ..., \"b'0.2875'\" \"b'0.308'\" \"b'9'\"]\n",
      " [\"b'F'\" \"b'0.625'\" \"b'0.485'\" ..., \"b'0.261'\" \"b'0.296'\" \"b'10'\"]\n",
      " [\"b'M'\" \"b'0.71'\" \"b'0.555'\" ..., \"b'0.3765'\" \"b'0.495'\" \"b'12'\"]]\n"
     ]
    },
    {
     "ename": "ValueError",
     "evalue": "could not convert string to float: \"b'0.35'\"",
     "output_type": "error",
     "traceback": [
      "\u001b[0;31m---------------------------------------------------------------------------\u001b[0m",
      "\u001b[0;31mValueError\u001b[0m                                Traceback (most recent call last)",
      "\u001b[0;32m<ipython-input-2-1f12bb0d74cf>\u001b[0m in \u001b[0;36m<module>\u001b[0;34m()\u001b[0m\n\u001b[1;32m     13\u001b[0m \u001b[1;32mfor\u001b[0m \u001b[0mi\u001b[0m \u001b[1;32min\u001b[0m \u001b[0mrange\u001b[0m\u001b[1;33m(\u001b[0m\u001b[0mlen1\u001b[0m\u001b[1;33m)\u001b[0m\u001b[1;33m:\u001b[0m\u001b[1;33m\u001b[0m\u001b[0m\n\u001b[1;32m     14\u001b[0m     \u001b[1;32mfor\u001b[0m \u001b[0mj\u001b[0m \u001b[1;32min\u001b[0m \u001b[0mrange\u001b[0m\u001b[1;33m(\u001b[0m\u001b[0mi\u001b[0m\u001b[1;33m)\u001b[0m\u001b[1;33m:\u001b[0m\u001b[1;33m\u001b[0m\u001b[0m\n\u001b[0;32m---> 15\u001b[0;31m         \u001b[0mvec1\u001b[0m \u001b[1;33m=\u001b[0m \u001b[0mnp\u001b[0m\u001b[1;33m.\u001b[0m\u001b[0marray\u001b[0m\u001b[1;33m(\u001b[0m\u001b[0mdataMatrix\u001b[0m\u001b[1;33m[\u001b[0m\u001b[0mi\u001b[0m\u001b[1;33m,\u001b[0m\u001b[1;36m1\u001b[0m\u001b[1;33m:\u001b[0m\u001b[1;33m]\u001b[0m\u001b[1;33m,\u001b[0m\u001b[0mdtype\u001b[0m\u001b[1;33m=\u001b[0m\u001b[1;34m'float64'\u001b[0m\u001b[1;33m)\u001b[0m\u001b[1;33m\u001b[0m\u001b[0m\n\u001b[0m\u001b[1;32m     16\u001b[0m         \u001b[0mvec2\u001b[0m \u001b[1;33m=\u001b[0m \u001b[0mnp\u001b[0m\u001b[1;33m.\u001b[0m\u001b[0marray\u001b[0m\u001b[1;33m(\u001b[0m\u001b[0mdataMatrix\u001b[0m\u001b[1;33m[\u001b[0m\u001b[0mj\u001b[0m\u001b[1;33m,\u001b[0m\u001b[1;36m1\u001b[0m\u001b[1;33m:\u001b[0m\u001b[1;33m]\u001b[0m\u001b[1;33m,\u001b[0m\u001b[0mdtype\u001b[0m\u001b[1;33m=\u001b[0m\u001b[1;34m'float64'\u001b[0m\u001b[1;33m)\u001b[0m\u001b[1;33m\u001b[0m\u001b[0m\n\u001b[1;32m     17\u001b[0m         \u001b[0mdisMatrix\u001b[0m\u001b[1;33m[\u001b[0m\u001b[0mi\u001b[0m\u001b[1;33m,\u001b[0m\u001b[0mj\u001b[0m\u001b[1;33m]\u001b[0m \u001b[1;33m=\u001b[0m \u001b[0mnp\u001b[0m\u001b[1;33m.\u001b[0m\u001b[0mlinalg\u001b[0m\u001b[1;33m.\u001b[0m\u001b[0mnorm\u001b[0m\u001b[1;33m(\u001b[0m\u001b[0mvec1\u001b[0m\u001b[1;33m-\u001b[0m\u001b[0mvec2\u001b[0m\u001b[1;33m,\u001b[0m\u001b[0mord\u001b[0m\u001b[1;33m=\u001b[0m\u001b[1;36m1\u001b[0m\u001b[1;33m)\u001b[0m\u001b[1;33m\u001b[0m\u001b[0m\n",
      "\u001b[0;31mValueError\u001b[0m: could not convert string to float: \"b'0.35'\""
     ]
    }
   ],
   "source": [
    "## This is code is for Abalone dataset\n",
    "import numpy as np\n",
    "## First load data, data name: Sex,Length,Diameter,Height,Whole weight,Shucked weight,Viscera weight,Shell weight,Rings\n",
    "## Different from the iris data set, you should download the abalone data and put it and this code file into the same directory\n",
    "dataMatrix = np.loadtxt(\"abalone.data\", delimiter=\",\",dtype=str)\n",
    "print(\"Here is data matrix : \")\n",
    "print(\"##########################################################\")\n",
    "print(dataMatrix)\n",
    "## Make dissimilarity matrix using Proximity Measures for sex, and Normalized Manhattand distance for other attributes.\n",
    "# THis is your exercise !!\n",
    "len1 = dataMatrix.shape[0]\n",
    "disMatrix = np.zeros((len1,len1))\n",
    "for i in range(len1):\n",
    "    for j in range(i):\n",
    "        vec1 = np.array(dataMatrix[i,1:],dtype='float64')\n",
    "        vec2 = np.array(dataMatrix[j,1:],dtype='float64')\n",
    "        disMatrix[i,j] = np.linalg.norm(vec1-vec2,ord=1)\n",
    "        #disMatrix[i,j] = np.sum(np.abs(vec1-vec2))\n",
    "print(\"Here is dissimilarity matrix: \")\n",
    "print(disMatrix)"
   ]
  }
 ],
 "metadata": {
  "anaconda-cloud": {},
  "kernelspec": {
   "display_name": "Python [conda root]",
   "language": "python",
   "name": "conda-root-py"
  },
  "language_info": {
   "codemirror_mode": {
    "name": "ipython",
    "version": 3
   },
   "file_extension": ".py",
   "mimetype": "text/x-python",
   "name": "python",
   "nbconvert_exporter": "python",
   "pygments_lexer": "ipython3",
   "version": "3.5.2"
  }
 },
 "nbformat": 4,
 "nbformat_minor": 1
}
