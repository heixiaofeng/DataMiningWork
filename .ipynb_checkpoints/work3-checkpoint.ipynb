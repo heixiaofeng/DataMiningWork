{
 "cells": [
  {
   "cell_type": "markdown",
   "metadata": {},
   "source": [
    "# Basic Classification\n",
    "\n",
    "This part demonstrates how to perform basic classification with sk-learn.\n",
    "\n",
    "- naive bayes\n",
    "- decision trees"
   ]
  },
  {
   "cell_type": "code",
   "execution_count": 4,
   "metadata": {
    "collapsed": false
   },
   "outputs": [
    {
     "name": "stdout",
     "output_type": "stream",
     "text": [
      "[0]\n",
      "0 is female, 1 is male\n"
     ]
    }
   ],
   "source": [
    "# code by python 3.5\n",
    "# code about native bayes\n",
    "# native bayes contains 3 models: MultinomialNB,BernoulliNB and GaussianNB, we take GaussianNB as an example\n",
    "import numpy\n",
    "from sklearn.naive_bayes import GaussianNB\n",
    "\n",
    "def test_gaussian_nb():\n",
    "    #height,weight,size of foot\n",
    "    X = numpy.array([\n",
    "        [6, 180, 12],\n",
    "        [5.92, 190, 11],\n",
    "        [5.58, 170, 12],\n",
    "        [5.92, 165, 10],\n",
    "        [5, 100, 6],\n",
    "        [5.5, 150, 8],\n",
    "        [5.42, 130, 7],\n",
    "        [5.75, 150, 9],\n",
    "    ])\n",
    "\n",
    "    #sex 1 is male and 2 is female\n",
    "    Y = numpy.array([1, 1, 1, 1, 0, 0, 0, 0])\n",
    "\n",
    "    gnb = GaussianNB()\n",
    "    gnb.fit(X, Y)\n",
    "\n",
    "    test = numpy.array([6, 130, 8]).reshape(1, -1)\n",
    "    result = gnb.predict(test)\n",
    "    print(result)\n",
    "    print(\"0 is female, 1 is male\")\n",
    "\n",
    "\n",
    "if __name__ == '__main__':\n",
    "    test_gaussian_nb()\n"
   ]
  },
  {
   "cell_type": "code",
   "execution_count": 3,
   "metadata": {
    "collapsed": false
   },
   "outputs": [
    {
     "name": "stdout",
     "output_type": "stream",
     "text": [
      "Accuracy:0.98\n"
     ]
    },
    {
     "data": {
      "image/png": "[encoded data removed]",
      "text/plain": [
       "<Figure size 432x288 with 1 Axes>"
      ]
     },
     "metadata": {},
     "output_type": "display_data"
    }
   ],
   "source": [
    "from sklearn import datasets\n",
    "import numpy as np\n",
    "from sklearn.cross_validation import train_test_split\n",
    "from sklearn.preprocessing import StandardScaler\n",
    "from matplotlib.colors import ListedColormap\n",
    "import matplotlib.pyplot as plt\n",
    "from sklearn.metrics import accuracy_score\n",
    "from sklearn.tree import DecisionTreeClassifier\n",
    "from sklearn.tree import export_graphviz\n",
    "\n",
    "# to draw the pic\n",
    "def plot_decision_regions(X, y, classifier, test_idx=None, resolution=0.02):\n",
    "    # set pic params\n",
    "    markers = ('s', 'x', 'o', '^', 'v')\n",
    "    colors = ('red', 'blue', 'lightgreen', 'gray', 'cyan')\n",
    "    cmap = ListedColormap(colors[:len(np.unique(y))])\n",
    "\n",
    "   \n",
    "    x1_min, x1_max = X[:, 0].min() - 1, X[:, 0].max() + 1\n",
    "    x2_min, x2_max = X[:, 1].min() - 1, X[:, 1].max() + 1\n",
    "    xx1, xx2 = np.meshgrid(np.arange(x1_min, x1_max, resolution), np.arange(x2_min, x2_max, resolution))\n",
    "    Z = classifier.predict(np.array([xx1.ravel(), xx2.ravel()]).T)\n",
    "    Z = Z.reshape(xx1.shape)\n",
    "    plt.contourf(xx1, xx2, Z, alpha=0.4, cmap=cmap)\n",
    "    plt.xlim(xx1.min(), xx1.max())\n",
    "    plt.ylim(xx2.min(), xx2.max())\n",
    "  \n",
    "    X_test, y_test = X[test_idx, :], y[test_idx]\n",
    "    for idx, cl in enumerate(np.unique(y)):\n",
    "        plt.scatter(x=X[y == cl, 0], y=X[y == cl, 1], alpha=0.8, c=cmap(idx), marker=markers[idx], label=cl)\n",
    "   \n",
    "    if test_idx:\n",
    "        X_test, y_test = X[test_idx, :], y[test_idx]\n",
    "        plt.scatter(X_test[:, 0], X_test[:, 1], c='', alpha=1.0, linewidths=1, marker='o', s=55, label='test set')\n",
    "\n",
    "\n",
    "# insert data\n",
    "iris = datasets.load_iris()\n",
    "X = iris.data[:, [2, 3]]\n",
    "y = iris.target\n",
    "# divide test data set and train data set\n",
    "X_train, X_test, y_train, y_test = train_test_split(X, y, test_size=0.3, random_state=0)\n",
    "\n",
    "sc = StandardScaler()\n",
    "sc.fit(X_train)  \n",
    "X_train_std = sc.transform(X_train)\n",
    "X_test_std = sc.transform(X_test)\n",
    "tree = DecisionTreeClassifier(criterion='entropy', max_depth=3, random_state=0)\n",
    "tree.fit(X_train_std, y_train)\n",
    "# forest=RandomForestClassifier(criterion='entropy',n_estimators=10,n_jobs=2,random_state=1)\n",
    "# forest.fit(X_train_std,y_train)\n",
    "y_pred = tree.predict(X_test_std)\n",
    "print('Accuracy:%.2f' % accuracy_score(y_test, y_pred))  \n",
    "\n",
    "X_combined_std = np.vstack((X_train_std, X_test_std))\n",
    "y_combined = np.hstack((y_train, y_test))\n",
    "plot_decision_regions(X=X_combined_std, y=y_combined, classifier=tree, test_idx=range(105, 150))\n",
    "plt.xlabel('petal length[cm]')\n",
    "plt.ylabel('petal width[cm]')\n",
    "plt.legend(loc='upper left')\n",
    "plt.show()\n",
    "\n"
   ]
  },
  {
   "cell_type": "code",
   "execution_count": null,
   "metadata": {
    "collapsed": true
   },
   "outputs": [],
   "source": [
    "# Excercice: Write functions to calculate Gain Split, GainRatio and GINI index, "
   ]
  }
 ],
 "metadata": {
  "kernelspec": {
   "display_name": "Python [default]",
   "language": "python",
   "name": "python3"
  },
  "language_info": {
   "codemirror_mode": {
    "name": "ipython",
    "version": 3
   },
   "file_extension": ".py",
   "mimetype": "text/x-python",
   "name": "python",
   "nbconvert_exporter": "python",
   "pygments_lexer": "ipython3",
   "version": "3.5.2"
  }
 },
 "nbformat": 4,
 "nbformat_minor": 2
}
